{
  "nbformat": 4,
  "nbformat_minor": 0,
  "metadata": {
    "colab": {
      "provenance": [],
      "authorship_tag": "ABX9TyMrSgE4ccf2nsh3nGpoma8S",
      "include_colab_link": true
    },
    "kernelspec": {
      "name": "python3",
      "display_name": "Python 3"
    },
    "language_info": {
      "name": "python"
    }
  },
  "cells": [
    {
      "cell_type": "markdown",
      "metadata": {
        "id": "view-in-github",
        "colab_type": "text"
      },
      "source": [
        "<a href=\"https://colab.research.google.com/github/CHARAN452/Numpy_notes/blob/main/Numpy_charan.ipynb\" target=\"_parent\"><img src=\"https://colab.research.google.com/assets/colab-badge.svg\" alt=\"Open In Colab\"/></a>"
      ]
    },
    {
      "cell_type": "markdown",
      "source": [
        "What is Numpy ?\n",
        ">it is a core library for scientific computing in python\n",
        "\n",
        "the main object of the python is array ?\n",
        ">Array\n",
        "\n",
        "What is Numpy array?\n",
        "> Array's are high performance multidimensional objects which is designed specially to maths operations\n",
        "\n",
        "What are all different use cases?\n",
        ">  1.Dot product / Inner product\n",
        "> 2. Matrix multiplication\n",
        "> 3. Element wise matrix product\n",
        "> 4. Solving the linear systems\n",
        "> 5. inverse\n",
        "> 7. Determinent\n",
        "> 8. Statastics\n"
      ],
      "metadata": {
        "id": "gkbNv_fo7uQU"
      }
    },
    {
      "cell_type": "markdown",
      "source": [
        "#installation of Numpy\n",
        "to install my package we need to use pip\n",
        "\n",
        "what is pip\n",
        "> pip is python package manager\n",
        "\n",
        "> !pip install numpy"
      ],
      "metadata": {
        "id": "_6YEPdvo9ECw"
      }
    },
    {
      "cell_type": "code",
      "execution_count": null,
      "metadata": {
        "id": "ZqV1XgTm7pfS"
      },
      "outputs": [],
      "source": [
        "import numpy as np"
      ]
    },
    {
      "cell_type": "code",
      "source": [
        "np.__version__"
      ],
      "metadata": {
        "colab": {
          "base_uri": "https://localhost:8080/",
          "height": 36
        },
        "id": "jiGdBACp7tdN",
        "outputId": "af1d54a1-a880-4ede-dd51-3a7a38cffd43"
      },
      "execution_count": null,
      "outputs": [
        {
          "output_type": "execute_result",
          "data": {
            "text/plain": [
              "'1.26.4'"
            ],
            "application/vnd.google.colaboratory.intrinsic+json": {
              "type": "string"
            }
          },
          "metadata": {},
          "execution_count": 3
        }
      ]
    },
    {
      "cell_type": "code",
      "source": [
        "#how many types of data structures do we have in numpy array's\n",
        "# 1D --> array's with zero columns and specific rows --> axis is 0(rows)\n",
        "# 2D --> Array's are with columns and rows --> axis 0 and axis 1(rows and columns)\n",
        "# 3D --> Multidimensonal arrays with axis 0(row) ,axis 1(col) ,axis 2(stepper)\n"
      ],
      "metadata": {
        "id": "hidyteE37taQ"
      },
      "execution_count": null,
      "outputs": []
    },
    {
      "cell_type": "code",
      "source": [
        "#Array's are ordered immutable,also it allows the duplicate data\n"
      ],
      "metadata": {
        "id": "iK8AgQzB7tZZ"
      },
      "execution_count": null,
      "outputs": []
    },
    {
      "cell_type": "markdown",
      "source": [
        "#Central object in numpy is Array's"
      ],
      "metadata": {
        "id": "cJelFCZR_clM"
      }
    },
    {
      "cell_type": "code",
      "source": [
        "#how can we create an array\n",
        "#array's are created from existing data\n",
        "#1D array\n",
        "a=np.array([1,2,3,4,5,6,6])\n",
        "print(a)\n",
        "print(type(a))"
      ],
      "metadata": {
        "colab": {
          "base_uri": "https://localhost:8080/"
        },
        "id": "cN7sNZXT_Z4v",
        "outputId": "2d980b80-419e-4f20-8d3d-2ae24dd5499d"
      },
      "execution_count": null,
      "outputs": [
        {
          "output_type": "stream",
          "name": "stdout",
          "text": [
            "[1 2 3 4 5 6 6]\n",
            "<class 'numpy.ndarray'>\n"
          ]
        }
      ]
    },
    {
      "cell_type": "code",
      "source": [
        "#i want to see the shape of the array\n",
        "a.shape\n",
        "#find the dtype of the numpy array\n",
        "a.dtype\n",
        "#find the dimension of array\n",
        "a.ndim\n",
        "# i want to know the no of elements in numpy array\n",
        "a.size\n",
        "print(len(a))\n",
        "#i want to know the size in bytes of each element\n",
        "a.itemsize"
      ],
      "metadata": {
        "colab": {
          "base_uri": "https://localhost:8080/"
        },
        "id": "s9hYn27s7tVb",
        "outputId": "a6e9b25c-3d5c-48e0-89ae-42b38e640a55"
      },
      "execution_count": null,
      "outputs": [
        {
          "output_type": "stream",
          "name": "stdout",
          "text": [
            "7\n"
          ]
        },
        {
          "output_type": "execute_result",
          "data": {
            "text/plain": [
              "8"
            ]
          },
          "metadata": {},
          "execution_count": 7
        }
      ]
    },
    {
      "cell_type": "markdown",
      "source": [
        "essential methods to create array"
      ],
      "metadata": {
        "id": "suavAjEMCps7"
      }
    },
    {
      "cell_type": "code",
      "source": [
        "#cerate a array from tuple\n",
        "t=(1,2,3,4,5,6)\n",
        "a=np.array(t)\n",
        "print(type(a))\n",
        "print(a)"
      ],
      "metadata": {
        "colab": {
          "base_uri": "https://localhost:8080/"
        },
        "id": "E2eIevvw7tUm",
        "outputId": "72cea514-394a-4da4-ea56-7e676ce1417d"
      },
      "execution_count": null,
      "outputs": [
        {
          "output_type": "stream",
          "name": "stdout",
          "text": [
            "<class 'numpy.ndarray'>\n",
            "[1 2 3 4 5 6]\n"
          ]
        }
      ]
    },
    {
      "cell_type": "code",
      "source": [
        "#create a array from tuple\n",
        "d1={'name':'Charan',\n",
        "    'age':22\n",
        "\n",
        "}\n",
        "print(d1)\n",
        "h=np.array(d1)\n",
        "h"
      ],
      "metadata": {
        "colab": {
          "base_uri": "https://localhost:8080/"
        },
        "id": "8fgEF3mx7tQa",
        "outputId": "e62e6926-35d8-40dc-93b3-4510e4bd574a"
      },
      "execution_count": null,
      "outputs": [
        {
          "output_type": "stream",
          "name": "stdout",
          "text": [
            "{'name': 'Charan', 'age': 22}\n"
          ]
        },
        {
          "output_type": "execute_result",
          "data": {
            "text/plain": [
              "array({'name': 'Charan', 'age': 22}, dtype=object)"
            ]
          },
          "metadata": {},
          "execution_count": 9
        }
      ]
    },
    {
      "cell_type": "code",
      "source": [
        "a={7,62,3,4,4,5,6}\n",
        "s=np.array(a)\n",
        "s"
      ],
      "metadata": {
        "colab": {
          "base_uri": "https://localhost:8080/"
        },
        "id": "zhzdEgM17tPi",
        "outputId": "e268b17d-0f3a-4b9e-9da2-d8e5bd97288d"
      },
      "execution_count": null,
      "outputs": [
        {
          "output_type": "execute_result",
          "data": {
            "text/plain": [
              "array({3, 4, 5, 6, 7, 62}, dtype=object)"
            ]
          },
          "metadata": {},
          "execution_count": 10
        }
      ]
    },
    {
      "cell_type": "markdown",
      "source": [
        "array is ordered\n"
      ],
      "metadata": {
        "id": "4s0fHntODv6o"
      }
    },
    {
      "cell_type": "code",
      "source": [
        "#essetial methods to access\n",
        "k=np.array([1,2,3,4])\n",
        "print(k[0])\n",
        "print(k[1:3])\n",
        "print(k[::-1])"
      ],
      "metadata": {
        "colab": {
          "base_uri": "https://localhost:8080/"
        },
        "id": "XEkJzbTjDZUe",
        "outputId": "a80ead6a-74b9-4e3c-8665-734803519094"
      },
      "execution_count": null,
      "outputs": [
        {
          "output_type": "stream",
          "name": "stdout",
          "text": [
            "1\n",
            "[2 3]\n",
            "[4 3 2 1]\n"
          ]
        }
      ]
    },
    {
      "cell_type": "code",
      "source": [
        "#array are immutable  :- we can replace the items but we cannot add or remove the items\n",
        "#replace '3' with '6'\n",
        "k[2]=6\n",
        "print(k)"
      ],
      "metadata": {
        "colab": {
          "base_uri": "https://localhost:8080/"
        },
        "id": "TAAJYh_DD7tJ",
        "outputId": "3b61f867-ec61-41ba-e4a5-3f6e031619fc"
      },
      "execution_count": null,
      "outputs": [
        {
          "output_type": "stream",
          "name": "stdout",
          "text": [
            "[1 2 6 4]\n"
          ]
        }
      ]
    },
    {
      "cell_type": "markdown",
      "source": [
        "Element wise mathematical operation"
      ],
      "metadata": {
        "id": "YqcETZNTE056"
      }
    },
    {
      "cell_type": "code",
      "source": [
        "b=np.array([6,7,8,9])\n",
        "b\n",
        "#when we apply arthmetic operations on array but array's has to be in same length\n",
        "#TASk : apply all the arthemetic operationd\n"
      ],
      "metadata": {
        "colab": {
          "base_uri": "https://localhost:8080/"
        },
        "id": "FqpS2rKsEUPX",
        "outputId": "c613677e-075f-4c20-8fdf-ea596c9838a2"
      },
      "execution_count": null,
      "outputs": [
        {
          "output_type": "execute_result",
          "data": {
            "text/plain": [
              "array([6, 7, 8, 9])"
            ]
          },
          "metadata": {},
          "execution_count": 13
        }
      ]
    },
    {
      "cell_type": "code",
      "source": [
        "#what is vector addition\n",
        "#> when we applying the addition operation on array's with same number of elements in both array's is known as vector addition\n"
      ],
      "metadata": {
        "id": "c0WA7wD6EUMS"
      },
      "execution_count": null,
      "outputs": []
    },
    {
      "cell_type": "code",
      "source": [
        "#what is the difference btw array's and list\n",
        "\n",
        "l=[1,2,3]\n",
        "a=np.array(l)\n",
        "#adding the elements in list\n",
        "l.append(4)\n",
        "l\n",
        "#adding in array\n",
        "\"\"\"a.append(5)\n",
        "a\"\"\""
      ],
      "metadata": {
        "colab": {
          "base_uri": "https://localhost:8080/",
          "height": 36
        },
        "id": "tBLLi1PMEULa",
        "outputId": "35256708-44ef-45e7-98c9-2c0c0d909ea5"
      },
      "execution_count": null,
      "outputs": [
        {
          "output_type": "execute_result",
          "data": {
            "text/plain": [
              "'a.append(5)\\na'"
            ],
            "application/vnd.google.colaboratory.intrinsic+json": {
              "type": "string"
            }
          },
          "metadata": {},
          "execution_count": 15
        }
      ]
    },
    {
      "cell_type": "code",
      "source": [
        "#NOTE : arrays are faster than the list,tuple,set,dictionary because it had fixed memory size\n",
        "#find the sqrt of the below array\n",
        "a2=np.array([2,3,5,6,7])\n",
        "print(np.sqrt(a2))"
      ],
      "metadata": {
        "colab": {
          "base_uri": "https://localhost:8080/"
        },
        "id": "xBQvg48BEUHW",
        "outputId": "854b2b50-dc64-44c8-bddc-ea575b1831d6"
      },
      "execution_count": null,
      "outputs": [
        {
          "output_type": "stream",
          "name": "stdout",
          "text": [
            "[1.41421356 1.73205081 2.23606798 2.44948974 2.64575131]\n"
          ]
        }
      ]
    },
    {
      "cell_type": "code",
      "source": [
        "#np.append it new items into the new array\n",
        "a3=np.append(l,a2)\n",
        "a3"
      ],
      "metadata": {
        "colab": {
          "base_uri": "https://localhost:8080/"
        },
        "id": "QrAB225LEUGf",
        "outputId": "5381a4b8-7b7c-44b4-d2d6-d6a24043ae8d"
      },
      "execution_count": null,
      "outputs": [
        {
          "output_type": "execute_result",
          "data": {
            "text/plain": [
              "array([1, 2, 3, 4, 2, 3, 5, 6, 7])"
            ]
          },
          "metadata": {},
          "execution_count": 17
        }
      ]
    },
    {
      "cell_type": "markdown",
      "source": [
        "# Dot product"
      ],
      "metadata": {
        "id": "dMIBfyGBHjq2"
      }
    },
    {
      "cell_type": "code",
      "source": [
        "a = np.array([1,2])\n",
        "b=np.array([3,4])\n",
        "dot=0\n",
        "for i in range(len(a)):\n",
        "  dot=dot+a[i]*b[i]\n",
        "print(dot)"
      ],
      "metadata": {
        "colab": {
          "base_uri": "https://localhost:8080/"
        },
        "id": "UmI0SGrGHNN1",
        "outputId": "a56e6ea2-7850-4f77-d719-99546b348758"
      },
      "execution_count": null,
      "outputs": [
        {
          "output_type": "stream",
          "name": "stdout",
          "text": [
            "11\n"
          ]
        }
      ]
    },
    {
      "cell_type": "code",
      "source": [
        "#what is dot product\n",
        "#dot product is a vector  multiplication of arrays and sum of the results\n"
      ],
      "metadata": {
        "id": "lcjrewT8HPdv"
      },
      "execution_count": null,
      "outputs": []
    },
    {
      "cell_type": "code",
      "source": [
        "c=a*b\n",
        "c\n",
        "d=np.sum(c)\n",
        "d"
      ],
      "metadata": {
        "colab": {
          "base_uri": "https://localhost:8080/"
        },
        "id": "RFmo0k6YHPbR",
        "outputId": "ba5af629-222a-4aac-f37f-d48fd5fb9f92"
      },
      "execution_count": null,
      "outputs": [
        {
          "output_type": "execute_result",
          "data": {
            "text/plain": [
              "11"
            ]
          },
          "metadata": {},
          "execution_count": 20
        }
      ]
    },
    {
      "cell_type": "code",
      "source": [
        "#another method\n",
        "e=a.dot(b)\n",
        "e"
      ],
      "metadata": {
        "colab": {
          "base_uri": "https://localhost:8080/"
        },
        "id": "WRbvpo1pHPaQ",
        "outputId": "46627163-33c6-44f3-bd6b-8807cbbab603"
      },
      "execution_count": null,
      "outputs": [
        {
          "output_type": "execute_result",
          "data": {
            "text/plain": [
              "11"
            ]
          },
          "metadata": {},
          "execution_count": 21
        }
      ]
    },
    {
      "cell_type": "code",
      "source": [
        "f=a@b\n",
        "f"
      ],
      "metadata": {
        "colab": {
          "base_uri": "https://localhost:8080/"
        },
        "id": "mSqCCpXdI3OT",
        "outputId": "3c1d2ada-a600-42a9-b97a-16cbd1b20ab9"
      },
      "execution_count": null,
      "outputs": [
        {
          "output_type": "execute_result",
          "data": {
            "text/plain": [
              "11"
            ]
          },
          "metadata": {},
          "execution_count": 22
        }
      ]
    },
    {
      "cell_type": "markdown",
      "source": [
        "# 11-02-2025"
      ],
      "metadata": {
        "id": "hVgnvHsvFcXF"
      }
    },
    {
      "cell_type": "markdown",
      "source": [
        "**Multi dimensional**"
      ],
      "metadata": {
        "id": "HZafU5XSFcU8"
      }
    },
    {
      "cell_type": "code",
      "source": [
        "import numpy as np"
      ],
      "metadata": {
        "id": "9vtQ_vJVI5OU"
      },
      "execution_count": null,
      "outputs": []
    },
    {
      "cell_type": "code",
      "source": [
        "#create a 2 dimensional array\n",
        "a=np.array([[1,3,4,5,6],[8,9,3,43,234]])\n",
        "print(a)\n",
        "\n",
        "print(a.shape)"
      ],
      "metadata": {
        "colab": {
          "base_uri": "https://localhost:8080/"
        },
        "id": "-Vs-m8XhI8w-",
        "outputId": "3811addc-27d0-4273-9faf-ffbfe2ca75a9"
      },
      "execution_count": null,
      "outputs": [
        {
          "output_type": "stream",
          "name": "stdout",
          "text": [
            "[[  1   3   4   5   6]\n",
            " [  8   9   3  43 234]]\n",
            "(2, 5)\n"
          ]
        }
      ]
    },
    {
      "cell_type": "code",
      "source": [
        "#How to access the elements from 2d array\n",
        "#[row_index:column_index]\n",
        "print(a[0])\n",
        "#i want to access particular value\n",
        "print(a[1,1])"
      ],
      "metadata": {
        "colab": {
          "base_uri": "https://localhost:8080/"
        },
        "id": "NA7KqRPZI8s0",
        "outputId": "31b4d515-6781-41e1-dc11-d8fd9f53e21a"
      },
      "execution_count": null,
      "outputs": [
        {
          "output_type": "stream",
          "name": "stdout",
          "text": [
            "[1 3 4 5 6]\n",
            "9\n"
          ]
        }
      ]
    },
    {
      "cell_type": "code",
      "source": [
        "print(a[1,2])"
      ],
      "metadata": {
        "colab": {
          "base_uri": "https://localhost:8080/"
        },
        "id": "3lH64_E5I8ry",
        "outputId": "61b04b91-9758-4323-89b1-e40437f7b4e2"
      },
      "execution_count": null,
      "outputs": [
        {
          "output_type": "stream",
          "name": "stdout",
          "text": [
            "3\n"
          ]
        }
      ]
    },
    {
      "cell_type": "code",
      "source": [
        "#how can i print the entire 1st column values\n",
        "b=np.array([[22,33,44,55],[66,77,88,99],[10,20,30,40]])\n",
        "print(b)\n",
        "print(b[2])\n",
        "print(b[:,1])#to print elements from the column"
      ],
      "metadata": {
        "colab": {
          "base_uri": "https://localhost:8080/"
        },
        "id": "HHy8k-ulI8o7",
        "outputId": "892afa3e-bee0-4cae-d07a-08ecf315124f"
      },
      "execution_count": null,
      "outputs": [
        {
          "output_type": "stream",
          "name": "stdout",
          "text": [
            "[[22 33 44 55]\n",
            " [66 77 88 99]\n",
            " [10 20 30 40]]\n",
            "[10 20 30 40]\n",
            "[33 77 20]\n"
          ]
        }
      ]
    },
    {
      "cell_type": "code",
      "source": [
        "print(b[1,:])\n",
        "print(b[2,:])"
      ],
      "metadata": {
        "colab": {
          "base_uri": "https://localhost:8080/"
        },
        "id": "Nz3SJN8iI8n5",
        "outputId": "f013811f-1e46-45f8-af87-d8b09743b065"
      },
      "execution_count": null,
      "outputs": [
        {
          "output_type": "stream",
          "name": "stdout",
          "text": [
            "[66 77 88 99]\n",
            "[10 20 30 40]\n"
          ]
        }
      ]
    },
    {
      "cell_type": "code",
      "source": [
        "#Transposs : converts the rows into columns and columns in to rows\n",
        "a=np.array([[1,2,3,4],[5,6,7,8]])\n",
        "print(a)"
      ],
      "metadata": {
        "colab": {
          "base_uri": "https://localhost:8080/"
        },
        "id": "z98YOKkFI8k2",
        "outputId": "8d83a11b-490d-4024-8e59-5661ec216df8"
      },
      "execution_count": null,
      "outputs": [
        {
          "output_type": "stream",
          "name": "stdout",
          "text": [
            "[[1 2 3 4]\n",
            " [5 6 7 8]]\n"
          ]
        }
      ]
    },
    {
      "cell_type": "code",
      "source": [
        "print(a.T)"
      ],
      "metadata": {
        "colab": {
          "base_uri": "https://localhost:8080/"
        },
        "id": "dgkgF53XI8iz",
        "outputId": "91d7419c-3ca8-44b5-a050-4a8d924e5d29"
      },
      "execution_count": null,
      "outputs": [
        {
          "output_type": "stream",
          "name": "stdout",
          "text": [
            "[[1 5]\n",
            " [2 6]\n",
            " [3 7]\n",
            " [4 8]]\n"
          ]
        }
      ]
    },
    {
      "cell_type": "code",
      "source": [
        "#Matrix multiplication\n",
        "a=np.array([[1,2],[3,4]])\n",
        "b=np.array([[3,4],[5,6]])\n",
        "#applying dot product on above arrays\n",
        "c=np.dot(a,b)\n",
        "print(c)\n",
        "d=a@b\n",
        "d"
      ],
      "metadata": {
        "colab": {
          "base_uri": "https://localhost:8080/"
        },
        "id": "efn4wkjlI8hv",
        "outputId": "119650b6-a47c-4003-897b-31f99f58e8fe"
      },
      "execution_count": null,
      "outputs": [
        {
          "output_type": "stream",
          "name": "stdout",
          "text": [
            "[[13 16]\n",
            " [29 36]]\n"
          ]
        },
        {
          "output_type": "execute_result",
          "data": {
            "text/plain": [
              "array([[13, 16],\n",
              "       [29, 36]])"
            ]
          },
          "metadata": {},
          "execution_count": 31
        }
      ]
    },
    {
      "cell_type": "code",
      "source": [
        "#How to find the inverse of the Array a?\n",
        "a=np.array([[1,2],[3,4]])\n",
        "d=np.linalg.inv(a)\n",
        "d\n"
      ],
      "metadata": {
        "colab": {
          "base_uri": "https://localhost:8080/"
        },
        "id": "gZ6ILVzwI8fR",
        "outputId": "47ebbd3d-bcfd-4d8f-c76e-28cbdebeefdb"
      },
      "execution_count": null,
      "outputs": [
        {
          "output_type": "execute_result",
          "data": {
            "text/plain": [
              "array([[-2. ,  1. ],\n",
              "       [ 1.5, -0.5]])"
            ]
          },
          "metadata": {},
          "execution_count": 32
        }
      ]
    },
    {
      "cell_type": "code",
      "source": [
        "#print the diagonal of array a\n",
        "f=np.diag(a)\n",
        "f\n"
      ],
      "metadata": {
        "colab": {
          "base_uri": "https://localhost:8080/"
        },
        "id": "vqnGH6I3I8eR",
        "outputId": "1a618ac7-0671-45f3-c1a6-1d9ccb35ee3d"
      },
      "execution_count": null,
      "outputs": [
        {
          "output_type": "execute_result",
          "data": {
            "text/plain": [
              "array([1, 4])"
            ]
          },
          "metadata": {},
          "execution_count": 33
        }
      ]
    },
    {
      "cell_type": "code",
      "source": [
        "#Diagonal on vector returns the matrix\n",
        "h=np.diag([1,4,5])\n",
        "print(h)#it prints the diagonal matrix"
      ],
      "metadata": {
        "colab": {
          "base_uri": "https://localhost:8080/"
        },
        "id": "WaF7QtZlI8br",
        "outputId": "db60373d-0c5d-4671-d70e-92b2669216be"
      },
      "execution_count": null,
      "outputs": [
        {
          "output_type": "stream",
          "name": "stdout",
          "text": [
            "[[1 0 0]\n",
            " [0 4 0]\n",
            " [0 0 5]]\n"
          ]
        }
      ]
    },
    {
      "cell_type": "markdown",
      "source": [
        "# indexinf,Slicing,Boolean Indexing"
      ],
      "metadata": {
        "id": "qhi1QgU3LjOu"
      }
    },
    {
      "cell_type": "code",
      "source": [
        "a=np.array([[1,2,3,4],[5,6,7,8],[9,10,11,12]])\n",
        "print(a.ndim)\n"
      ],
      "metadata": {
        "colab": {
          "base_uri": "https://localhost:8080/"
        },
        "id": "20srnhZjI8aw",
        "outputId": "f73de343-9f5f-4928-b6d6-034697454dba"
      },
      "execution_count": null,
      "outputs": [
        {
          "output_type": "stream",
          "name": "stdout",
          "text": [
            "2\n"
          ]
        }
      ]
    },
    {
      "cell_type": "code",
      "source": [
        "#How can we print 2 column all values\n",
        "print(a[:,1])\n",
        "print(a[0:3,3:4])\n",
        "print(a[:,-1:])#array in 2D"
      ],
      "metadata": {
        "colab": {
          "base_uri": "https://localhost:8080/"
        },
        "id": "RfeDV_lgI8Yk",
        "outputId": "47a76996-1cf7-41fe-984f-79ec3d25716a"
      },
      "execution_count": null,
      "outputs": [
        {
          "output_type": "stream",
          "name": "stdout",
          "text": [
            "[ 2  6 10]\n",
            "[[ 4]\n",
            " [ 8]\n",
            " [12]]\n",
            "[[ 4]\n",
            " [ 8]\n",
            " [12]]\n"
          ]
        }
      ]
    },
    {
      "cell_type": "code",
      "source": [
        "#print 11 from above array\n",
        "print(a[2,2])"
      ],
      "metadata": {
        "colab": {
          "base_uri": "https://localhost:8080/"
        },
        "id": "QUaTHXzwI8Xk",
        "outputId": "c4c9d293-096b-474f-de4c-3230c964ced6"
      },
      "execution_count": null,
      "outputs": [
        {
          "output_type": "stream",
          "name": "stdout",
          "text": [
            "11\n"
          ]
        }
      ]
    },
    {
      "cell_type": "markdown",
      "source": [
        "**Boolean**"
      ],
      "metadata": {
        "id": "ltK0aabnM7zu"
      }
    },
    {
      "cell_type": "code",
      "source": [
        "#print the numbers"
      ],
      "metadata": {
        "id": "reRSX9JmMIXW"
      },
      "execution_count": null,
      "outputs": []
    },
    {
      "cell_type": "code",
      "source": [],
      "metadata": {
        "id": "B-UIr0BwMIV6"
      },
      "execution_count": null,
      "outputs": []
    },
    {
      "cell_type": "code",
      "source": [
        "#np.where(condition,true,false)\n",
        "a=np.array([10,20,30,35,37,66,33,4,5,40,54])\n",
        "b=np.where(a%2==0,a,0)\n",
        "print(b)"
      ],
      "metadata": {
        "colab": {
          "base_uri": "https://localhost:8080/"
        },
        "id": "6FN9YaM6MIT4",
        "outputId": "0235cf6a-35ee-4949-9fea-093bd3d9e016"
      },
      "execution_count": null,
      "outputs": [
        {
          "output_type": "stream",
          "name": "stdout",
          "text": [
            "[10 20 30  0  0 66  0  4  0 40 54]\n"
          ]
        }
      ]
    },
    {
      "cell_type": "code",
      "source": [
        "#in an array compute the indexes where the condition is true\n",
        "a=np.array([10,20,30,35,37,66,33,4,5,40,54])\n",
        "#np.argwhere()\n",
        "eve=np.argwhere(a%2==0).flatten()#flatten() is used to make the output in horizontal way\n",
        "eve\n",
        "eve_a=a[eve]\n",
        "print(eve_a)"
      ],
      "metadata": {
        "colab": {
          "base_uri": "https://localhost:8080/"
        },
        "id": "Ux5mHKd8MISo",
        "outputId": "7b8be11e-de71-411c-ea17-edb757b32b7d"
      },
      "execution_count": null,
      "outputs": [
        {
          "output_type": "stream",
          "name": "stdout",
          "text": [
            "[10 20 30 66  4 40 54]\n"
          ]
        }
      ]
    },
    {
      "cell_type": "markdown",
      "source": [
        "Reshaping of the array"
      ],
      "metadata": {
        "id": "sXQBIBkcQYgR"
      }
    },
    {
      "cell_type": "code",
      "source": [
        "#create a range of array\n",
        "a=np.arange(10)\n",
        "print(a)"
      ],
      "metadata": {
        "colab": {
          "base_uri": "https://localhost:8080/"
        },
        "id": "GN2NyCM2MIQq",
        "outputId": "7a2c7cbc-e286-46cb-e533-2185cba4c5ec"
      },
      "execution_count": null,
      "outputs": [
        {
          "output_type": "stream",
          "name": "stdout",
          "text": [
            "[0 1 2 3 4 5 6 7 8 9]\n"
          ]
        }
      ]
    },
    {
      "cell_type": "code",
      "source": [
        "#print the range of arrays from 1 to 10\n",
        "a=np.arange(11)\n",
        "print(a)"
      ],
      "metadata": {
        "colab": {
          "base_uri": "https://localhost:8080/"
        },
        "id": "XrhHuLSvMIPX",
        "outputId": "dc8ccd06-f19d-411b-bdbd-20a06ae2a139"
      },
      "execution_count": null,
      "outputs": [
        {
          "output_type": "stream",
          "name": "stdout",
          "text": [
            "[ 0  1  2  3  4  5  6  7  8  9 10]\n"
          ]
        }
      ]
    },
    {
      "cell_type": "code",
      "source": [
        "#reshape the above array in to 3 rows and 3 columns\n",
        "#convert the above array to 5 rows and 2 columns\n",
        "print(a.reshape(2,3))"
      ],
      "metadata": {
        "colab": {
          "base_uri": "https://localhost:8080/",
          "height": 176
        },
        "id": "Y4xH7oYbMIND",
        "outputId": "88cf8310-4d9f-47e7-a079-b2aae460acb2"
      },
      "execution_count": null,
      "outputs": [
        {
          "output_type": "error",
          "ename": "ValueError",
          "evalue": "cannot reshape array of size 11 into shape (2,3)",
          "traceback": [
            "\u001b[0;31m---------------------------------------------------------------------------\u001b[0m",
            "\u001b[0;31mValueError\u001b[0m                                Traceback (most recent call last)",
            "\u001b[0;32m<ipython-input-64-b10ee54788ac>\u001b[0m in \u001b[0;36m<cell line: 0>\u001b[0;34m()\u001b[0m\n\u001b[1;32m      1\u001b[0m \u001b[0;31m#reshape the above array in to 3 rows and 3 columns\u001b[0m\u001b[0;34m\u001b[0m\u001b[0;34m\u001b[0m\u001b[0m\n\u001b[1;32m      2\u001b[0m \u001b[0;31m#convert the above array to 5 rows and 2 columns\u001b[0m\u001b[0;34m\u001b[0m\u001b[0;34m\u001b[0m\u001b[0m\n\u001b[0;32m----> 3\u001b[0;31m \u001b[0mprint\u001b[0m\u001b[0;34m(\u001b[0m\u001b[0ma\u001b[0m\u001b[0;34m.\u001b[0m\u001b[0mreshape\u001b[0m\u001b[0;34m(\u001b[0m\u001b[0;36m2\u001b[0m\u001b[0;34m,\u001b[0m\u001b[0;36m3\u001b[0m\u001b[0;34m)\u001b[0m\u001b[0;34m)\u001b[0m\u001b[0;34m\u001b[0m\u001b[0;34m\u001b[0m\u001b[0m\n\u001b[0m",
            "\u001b[0;31mValueError\u001b[0m: cannot reshape array of size 11 into shape (2,3)"
          ]
        }
      ]
    },
    {
      "cell_type": "markdown",
      "source": [
        "#12-02-25\n",
        "**New Axis**"
      ],
      "metadata": {
        "id": "e5pypoBGOCyS"
      }
    },
    {
      "cell_type": "code",
      "source": [
        "#why we are using np.newaxis?\n",
        "#np.newaxis required when the model can be shaped in a certain manner"
      ],
      "metadata": {
        "id": "S8xZsng0MIL2"
      },
      "execution_count": null,
      "outputs": []
    },
    {
      "cell_type": "code",
      "source": [
        "#print the range of numbers\n",
        "a=np.arange(1,7)\n",
        "a"
      ],
      "metadata": {
        "colab": {
          "base_uri": "https://localhost:8080/"
        },
        "id": "qHQorWDaOxqo",
        "outputId": "bdd30554-df22-42e9-ce3d-0ab12f14e8d9"
      },
      "execution_count": null,
      "outputs": [
        {
          "output_type": "execute_result",
          "data": {
            "text/plain": [
              "array([1, 2, 3, 4, 5, 6])"
            ]
          },
          "metadata": {},
          "execution_count": 48
        }
      ]
    },
    {
      "cell_type": "code",
      "source": [
        "#convert above array into 2 rows and 3 columns\n",
        "#np.reshape\n",
        "print(a.reshape(2,3))"
      ],
      "metadata": {
        "colab": {
          "base_uri": "https://localhost:8080/"
        },
        "id": "Q_ltD39vO3Bh",
        "outputId": "abcb3a5d-0172-4233-e06c-3ed5629352c2"
      },
      "execution_count": null,
      "outputs": [
        {
          "output_type": "stream",
          "name": "stdout",
          "text": [
            "[[1 2 3]\n",
            " [4 5 6]]\n"
          ]
        }
      ]
    },
    {
      "cell_type": "code",
      "source": [
        "#new axis :- It is used to create a new axis in the data\n",
        "b=a.reshape(2,3)\n",
        "print(b.shape)"
      ],
      "metadata": {
        "colab": {
          "base_uri": "https://localhost:8080/",
          "height": 176
        },
        "id": "3-XDpTQ9PEv7",
        "outputId": "c47035fb-7046-4c65-861b-d79514c606c0"
      },
      "execution_count": null,
      "outputs": [
        {
          "output_type": "error",
          "ename": "ValueError",
          "evalue": "cannot reshape array of size 11 into shape (2,3)",
          "traceback": [
            "\u001b[0;31m---------------------------------------------------------------------------\u001b[0m",
            "\u001b[0;31mValueError\u001b[0m                                Traceback (most recent call last)",
            "\u001b[0;32m<ipython-input-70-ce1eea04e77d>\u001b[0m in \u001b[0;36m<cell line: 0>\u001b[0;34m()\u001b[0m\n\u001b[1;32m      1\u001b[0m \u001b[0;31m#new axis :- It is used to create a new axis in the data\u001b[0m\u001b[0;34m\u001b[0m\u001b[0;34m\u001b[0m\u001b[0m\n\u001b[0;32m----> 2\u001b[0;31m \u001b[0mb\u001b[0m\u001b[0;34m=\u001b[0m\u001b[0ma\u001b[0m\u001b[0;34m.\u001b[0m\u001b[0mreshape\u001b[0m\u001b[0;34m(\u001b[0m\u001b[0;36m2\u001b[0m\u001b[0;34m,\u001b[0m\u001b[0;36m3\u001b[0m\u001b[0;34m)\u001b[0m\u001b[0;34m\u001b[0m\u001b[0;34m\u001b[0m\u001b[0m\n\u001b[0m\u001b[1;32m      3\u001b[0m \u001b[0mprint\u001b[0m\u001b[0;34m(\u001b[0m\u001b[0mb\u001b[0m\u001b[0;34m.\u001b[0m\u001b[0mshape\u001b[0m\u001b[0;34m)\u001b[0m\u001b[0;34m\u001b[0m\u001b[0;34m\u001b[0m\u001b[0m\n",
            "\u001b[0;31mValueError\u001b[0m: cannot reshape array of size 11 into shape (2,3)"
          ]
        }
      ]
    },
    {
      "cell_type": "code",
      "source": [
        "#new axis\n",
        "d=a[np.newaxis,:]\n",
        "print(d.ndim)\n",
        "print(d)\n",
        "print(d.shape)"
      ],
      "metadata": {
        "colab": {
          "base_uri": "https://localhost:8080/"
        },
        "id": "LAPXoNk1PsmK",
        "outputId": "3b4215d5-02d5-49ed-de1e-eb3478189fc7"
      },
      "execution_count": null,
      "outputs": [
        {
          "output_type": "stream",
          "name": "stdout",
          "text": [
            "2\n",
            "[[ 0  1  2  3  4  5  6  7  8  9 10]]\n",
            "(1, 11)\n"
          ]
        }
      ]
    },
    {
      "cell_type": "code",
      "source": [
        "print(d.T)\n",
        "print(d.ndim)"
      ],
      "metadata": {
        "colab": {
          "base_uri": "https://localhost:8080/"
        },
        "id": "pqlnElsIQIX3",
        "outputId": "99b1edf5-7aa4-4c67-e42b-6e0664b1cc4e"
      },
      "execution_count": null,
      "outputs": [
        {
          "output_type": "stream",
          "name": "stdout",
          "text": [
            "[[ 0]\n",
            " [ 1]\n",
            " [ 2]\n",
            " [ 3]\n",
            " [ 4]\n",
            " [ 5]\n",
            " [ 6]\n",
            " [ 7]\n",
            " [ 8]\n",
            " [ 9]\n",
            " [10]]\n",
            "2\n"
          ]
        }
      ]
    },
    {
      "cell_type": "code",
      "source": [
        "h=a[:,np.newaxis]\n",
        "print(h)\n",
        "print(h.shape)\n"
      ],
      "metadata": {
        "colab": {
          "base_uri": "https://localhost:8080/"
        },
        "id": "PZAwn6dIQhUw",
        "outputId": "1951fd46-a62d-46a1-879d-60e81d9afa20"
      },
      "execution_count": null,
      "outputs": [
        {
          "output_type": "stream",
          "name": "stdout",
          "text": [
            "[[ 0]\n",
            " [ 1]\n",
            " [ 2]\n",
            " [ 3]\n",
            " [ 4]\n",
            " [ 5]\n",
            " [ 6]\n",
            " [ 7]\n",
            " [ 8]\n",
            " [ 9]\n",
            " [10]]\n",
            "(11, 1)\n"
          ]
        }
      ]
    },
    {
      "cell_type": "markdown",
      "source": [
        "**concatenation**"
      ],
      "metadata": {
        "id": "50PzJJEaSTAK"
      }
    },
    {
      "cell_type": "code",
      "source": [
        "#Concatenation\n",
        "a=np.array([[1,2],[3,4]])\n",
        "b=np.array([[5,6]])\n",
        "#combine using concatenate above 2 arrays\n",
        "c=np.concatenate((a,b),axis=0)\n",
        "c\n",
        "\n",
        "\n",
        "#NOTE : when we concatenate according to column wise (axis=1) the array's has to be in the same length\n",
        "\n"
      ],
      "metadata": {
        "colab": {
          "base_uri": "https://localhost:8080/"
        },
        "id": "7t9k3vrRRPzk",
        "outputId": "d917b8c4-7db8-4dfe-aafe-f4282c8aa42d"
      },
      "execution_count": null,
      "outputs": [
        {
          "output_type": "execute_result",
          "data": {
            "text/plain": [
              "array([[1, 2],\n",
              "       [3, 4],\n",
              "       [5, 6]])"
            ]
          },
          "metadata": {},
          "execution_count": 85
        }
      ]
    },
    {
      "cell_type": "markdown",
      "source": [
        "**HSTACK**  **Horizontal stack**"
      ],
      "metadata": {
        "id": "F-TMMraOTiC-"
      }
    },
    {
      "cell_type": "code",
      "source": [
        "#hstack : stack array sequence horizontally\n",
        "a=np.array([[1,2],[3,4]])\n",
        "b=np.array([[5,6],[7,8]])\n",
        "c=np.hstack((a,b))\n",
        "c\n",
        "\n",
        "\n"
      ],
      "metadata": {
        "colab": {
          "base_uri": "https://localhost:8080/"
        },
        "id": "4mN9TEybStZU",
        "outputId": "fe9ff462-0052-43c3-a8a7-e7139332973d"
      },
      "execution_count": null,
      "outputs": [
        {
          "output_type": "execute_result",
          "data": {
            "text/plain": [
              "array([[1, 2, 5, 6],\n",
              "       [3, 4, 7, 8]])"
            ]
          },
          "metadata": {},
          "execution_count": 90
        }
      ]
    },
    {
      "cell_type": "code",
      "source": [
        "a=np.array([1,2,3,4,5,6]) #1 d array means only rows\n",
        "b=np.array([3,4,5,6,7,8])\n",
        "c=np.hstack((a,b))\n",
        "print(c.shape)\n"
      ],
      "metadata": {
        "colab": {
          "base_uri": "https://localhost:8080/"
        },
        "id": "vZZwfj58T13G",
        "outputId": "0e0eecf9-b81e-46e6-a3d3-928e100d2d87"
      },
      "execution_count": null,
      "outputs": [
        {
          "output_type": "stream",
          "name": "stdout",
          "text": [
            "(12,)\n"
          ]
        }
      ]
    },
    {
      "cell_type": "markdown",
      "source": [
        "**VSTACK** **Vertical stack**\n"
      ],
      "metadata": {
        "id": "-DTisnZyUf55"
      }
    },
    {
      "cell_type": "code",
      "source": [
        "a=np.array([1,2,3,4,5,6]) #1 d array means only rows\n",
        "b=np.array([3,4,5,6,7,8])\n",
        "c=np.vstack((a,b))\n",
        "print(c)\n",
        "print(c.shape)\n",
        "\n",
        "\n",
        "\n"
      ],
      "metadata": {
        "colab": {
          "base_uri": "https://localhost:8080/"
        },
        "id": "FV16H4UcUUXB",
        "outputId": "43343fbe-7b85-4966-b3da-968f9b3cbfd5"
      },
      "execution_count": null,
      "outputs": [
        {
          "output_type": "stream",
          "name": "stdout",
          "text": [
            "[[1 2 3 4 5 6]\n",
            " [3 4 5 6 7 8]]\n",
            "(2, 6)\n"
          ]
        }
      ]
    },
    {
      "cell_type": "code",
      "source": [
        "#hstack : stack array sequence horizontally\n",
        "a=np.array([[1,2],[3,4]])\n",
        "b=np.array([[5,6],[7,8]])\n",
        "c=np.vstack((a,b))\n",
        "c"
      ],
      "metadata": {
        "colab": {
          "base_uri": "https://localhost:8080/"
        },
        "id": "zmuGpNq4Utue",
        "outputId": "713d21de-1010-4a62-be82-774f8b61b4ac"
      },
      "execution_count": null,
      "outputs": [
        {
          "output_type": "execute_result",
          "data": {
            "text/plain": [
              "array([[1, 2],\n",
              "       [3, 4],\n",
              "       [5, 6],\n",
              "       [7, 8]])"
            ]
          },
          "metadata": {},
          "execution_count": 98
        }
      ]
    },
    {
      "cell_type": "markdown",
      "source": [
        "#Broadcasting"
      ],
      "metadata": {
        "id": "9m0Rrf7FVXob"
      }
    },
    {
      "cell_type": "code",
      "source": [
        "\"\"\"Broadcasting is a powerfull mechanism in numpy where it can works different array's of different shapes\"\"\"\n",
        "a=np.array([1,2,3,4])\n",
        "b=np.array([5])\n",
        "c=a+b\n",
        "c"
      ],
      "metadata": {
        "colab": {
          "base_uri": "https://localhost:8080/"
        },
        "id": "PNYuRzKhVC4k",
        "outputId": "4c4fac0b-0720-46e0-cafe-ce3c3abdfe2e"
      },
      "execution_count": null,
      "outputs": [
        {
          "output_type": "execute_result",
          "data": {
            "text/plain": [
              "array([6, 7, 8, 9])"
            ]
          },
          "metadata": {},
          "execution_count": 100
        }
      ]
    },
    {
      "cell_type": "code",
      "source": [
        "a = np.array([[1, 2], [3, 4]])\n",
        "y = np.array([2, 3])  # Ensure `y` has the same length as the number of columns in `a`\n",
        "print(a + y)"
      ],
      "metadata": {
        "colab": {
          "base_uri": "https://localhost:8080/"
        },
        "id": "jYiQjLkaVyVX",
        "outputId": "78ef09ab-d2b4-4a56-dc0f-7ee942e44ba9"
      },
      "execution_count": null,
      "outputs": [
        {
          "output_type": "stream",
          "name": "stdout",
          "text": [
            "[[3 5]\n",
            " [5 7]]\n"
          ]
        }
      ]
    },
    {
      "cell_type": "markdown",
      "source": [
        "**Copying**"
      ],
      "metadata": {
        "id": "mocGQ8hgW5hQ"
      }
    },
    {
      "cell_type": "code",
      "source": [
        "a=np.array([1,2,3])\n",
        "b=a\n",
        "b[0]=6\n",
        "print(b)\n",
        "#so np.copy() is used to when you make change in new array it wont impacts on original array\n"
      ],
      "metadata": {
        "colab": {
          "base_uri": "https://localhost:8080/"
        },
        "id": "EaPes6TxWMQl",
        "outputId": "a296a26f-4ae3-42a0-90f0-10995224c393"
      },
      "execution_count": null,
      "outputs": [
        {
          "output_type": "stream",
          "name": "stdout",
          "text": [
            "[6 2 3]\n"
          ]
        }
      ]
    },
    {
      "cell_type": "code",
      "source": [
        "a=np.array([4,5,67,9])\n",
        "b=a.copy()\n",
        "b[2]=6\n",
        "print(a)\n",
        "print(b)"
      ],
      "metadata": {
        "colab": {
          "base_uri": "https://localhost:8080/"
        },
        "id": "-9WGuqyHXDHT",
        "outputId": "4666f737-e58f-42ff-bf0d-f082f91eb293"
      },
      "execution_count": null,
      "outputs": [
        {
          "output_type": "stream",
          "name": "stdout",
          "text": [
            "[ 4  5 67  9]\n",
            "[4 5 6 9]\n"
          ]
        }
      ]
    },
    {
      "cell_type": "markdown",
      "source": [
        "**Generating Arrays**"
      ],
      "metadata": {
        "id": "3yl8YrnzXnTF"
      }
    },
    {
      "cell_type": "code",
      "source": [
        "#generate an array of 0's which is having 2 rows and 3 columns\n",
        "a=np.zeros((2,3),dtype=np.int32)\n",
        "a\n",
        "print(a.dtype)"
      ],
      "metadata": {
        "colab": {
          "base_uri": "https://localhost:8080/"
        },
        "id": "2xBCYPULXi_h",
        "outputId": "a5fed282-a770-4c42-a6bf-f0d7aae12acb"
      },
      "execution_count": null,
      "outputs": [
        {
          "output_type": "stream",
          "name": "stdout",
          "text": [
            "int32\n"
          ]
        }
      ]
    },
    {
      "cell_type": "code",
      "source": [
        "a=np.ones((2,3),dtype=np.int32)\n",
        "a"
      ],
      "metadata": {
        "colab": {
          "base_uri": "https://localhost:8080/"
        },
        "id": "15ranu6AX3A9",
        "outputId": "9bdbfb49-b69a-48cd-bf1c-6db476f721cc"
      },
      "execution_count": null,
      "outputs": [
        {
          "output_type": "execute_result",
          "data": {
            "text/plain": [
              "array([[1, 1, 1],\n",
              "       [1, 1, 1]], dtype=int32)"
            ]
          },
          "metadata": {},
          "execution_count": 115
        }
      ]
    },
    {
      "cell_type": "markdown",
      "source": [
        "**EYE**  **identity matrix**"
      ],
      "metadata": {
        "id": "-TBZBTiWYhE7"
      }
    },
    {
      "cell_type": "code",
      "source": [
        "#Generate an identity matrix\n",
        "d=np.eye(3)\n",
        "d"
      ],
      "metadata": {
        "colab": {
          "base_uri": "https://localhost:8080/"
        },
        "id": "LsVqR1KJYPSb",
        "outputId": "22d99671-bad1-4ab2-ee5d-977580a6e2f0"
      },
      "execution_count": null,
      "outputs": [
        {
          "output_type": "execute_result",
          "data": {
            "text/plain": [
              "array([[1., 0., 0.],\n",
              "       [0., 1., 0.],\n",
              "       [0., 0., 1.]])"
            ]
          },
          "metadata": {},
          "execution_count": 116
        }
      ]
    },
    {
      "cell_type": "code",
      "source": [
        "d=np.identity(3)\n",
        "d"
      ],
      "metadata": {
        "colab": {
          "base_uri": "https://localhost:8080/"
        },
        "id": "82vauYgbYeTT",
        "outputId": "a0814c81-d3de-4d37-fba0-0162488f2805"
      },
      "execution_count": null,
      "outputs": [
        {
          "output_type": "execute_result",
          "data": {
            "text/plain": [
              "array([[1., 0., 0.],\n",
              "       [0., 1., 0.],\n",
              "       [0., 0., 1.]])"
            ]
          },
          "metadata": {},
          "execution_count": 118
        }
      ]
    },
    {
      "cell_type": "markdown",
      "source": [
        "**Full command to generate identity matrix of any number**"
      ],
      "metadata": {
        "id": "dO_2TJmvY5Qd"
      }
    },
    {
      "cell_type": "code",
      "source": [
        "#Generate an specific numbers\n",
        "e=np.full((3,3),9)\n",
        "e"
      ],
      "metadata": {
        "colab": {
          "base_uri": "https://localhost:8080/"
        },
        "id": "s9JfoRyGYl-j",
        "outputId": "080689fc-da31-4cfc-8230-b5a5a3ffc366"
      },
      "execution_count": null,
      "outputs": [
        {
          "output_type": "execute_result",
          "data": {
            "text/plain": [
              "array([[9, 9, 9],\n",
              "       [9, 9, 9],\n",
              "       [9, 9, 9]])"
            ]
          },
          "metadata": {},
          "execution_count": 121
        }
      ]
    },
    {
      "cell_type": "markdown",
      "source": [
        "**Linspace**"
      ],
      "metadata": {
        "id": "xQFZK7BLZCRs"
      }
    },
    {
      "cell_type": "code",
      "source": [
        "#linspace: splits the data into equal parts\n",
        "#linspace (start,end,count_partitions)\n",
        "h=np.linspace(0,10,6)\n",
        "h\n"
      ],
      "metadata": {
        "colab": {
          "base_uri": "https://localhost:8080/"
        },
        "id": "mHNxFROlY28Y",
        "outputId": "ddbe5eb9-7609-4c29-e7bb-f2b614883cdb"
      },
      "execution_count": null,
      "outputs": [
        {
          "output_type": "execute_result",
          "data": {
            "text/plain": [
              "array([ 0.,  2.,  4.,  6.,  8., 10.])"
            ]
          },
          "metadata": {},
          "execution_count": 122
        }
      ]
    },
    {
      "cell_type": "markdown",
      "source": [
        "**Random numbers()**"
      ],
      "metadata": {
        "id": "8Trhiui1ZpHx"
      }
    },
    {
      "cell_type": "code",
      "source": [
        "a=np.random.random(1,9)\n",
        "a\n",
        "#random.random is used to generate unformly distributed\n"
      ],
      "metadata": {
        "colab": {
          "base_uri": "https://localhost:8080/"
        },
        "id": "ubKf8IvaZQ-n",
        "outputId": "fc190e52-2483-4d07-bc56-78097ed0f05c"
      },
      "execution_count": null,
      "outputs": [
        {
          "output_type": "execute_result",
          "data": {
            "text/plain": [
              "array([[0.098748  , 0.23191911, 0.73838075, 0.2959671 , 0.76578562,\n",
              "        0.06647322, 0.87718107, 0.91669912, 0.93071748]])"
            ]
          },
          "metadata": {},
          "execution_count": 124
        }
      ]
    },
    {
      "cell_type": "code",
      "source": [
        "#Generate an array which is noramlly distributed\n",
        "b=np.random.rand(3,2)\n",
        "print(b)\n",
        "print(b.mean(),b.std(),b.var())"
      ],
      "metadata": {
        "colab": {
          "base_uri": "https://localhost:8080/"
        },
        "id": "wiDph2qSZfoD",
        "outputId": "317d7ee6-4e3d-4d01-9849-0a971e882608"
      },
      "execution_count": null,
      "outputs": [
        {
          "output_type": "stream",
          "name": "stdout",
          "text": [
            "[[0.76970858 0.80577905]\n",
            " [0.57885262 0.19460357]\n",
            " [0.70966399 0.77980485]]\n",
            "0.6397354428730793 0.21245471745252767 0.04513700696783337\n"
          ]
        }
      ]
    },
    {
      "cell_type": "code",
      "source": [
        "#Genrate the random integers\n",
        "c=np.random.randint(3,10,size=(3,3))"
      ],
      "metadata": {
        "id": "EFyAY87haL5d"
      },
      "execution_count": null,
      "outputs": []
    },
    {
      "cell_type": "code",
      "source": [
        "c"
      ],
      "metadata": {
        "colab": {
          "base_uri": "https://localhost:8080/"
        },
        "id": "ySiGDRMlaMTJ",
        "outputId": "bd9e000d-9909-407b-c0fe-f2fb3a196063"
      },
      "execution_count": null,
      "outputs": [
        {
          "output_type": "execute_result",
          "data": {
            "text/plain": [
              "array([[7, 3, 7],\n",
              "       [6, 9, 4],\n",
              "       [7, 8, 6]])"
            ]
          },
          "metadata": {},
          "execution_count": 136
        }
      ]
    },
    {
      "cell_type": "code",
      "source": [
        "#can we genarte an random integer with in a range of particular numbers\n",
        "d=np.random.choice(11,size=1)\n",
        "d"
      ],
      "metadata": {
        "colab": {
          "base_uri": "https://localhost:8080/"
        },
        "id": "_pk1z4Y0aMWt",
        "outputId": "1f17ee5f-38cf-4fec-806b-264dd8778b32"
      },
      "execution_count": null,
      "outputs": [
        {
          "output_type": "execute_result",
          "data": {
            "text/plain": [
              "array([1])"
            ]
          },
          "metadata": {},
          "execution_count": 142
        }
      ]
    },
    {
      "cell_type": "code",
      "source": [],
      "metadata": {
        "id": "V2YrcLpzaMaU"
      },
      "execution_count": null,
      "outputs": []
    },
    {
      "cell_type": "code",
      "source": [],
      "metadata": {
        "id": "-fdzypr5aMhC"
      },
      "execution_count": null,
      "outputs": []
    },
    {
      "cell_type": "code",
      "source": [],
      "metadata": {
        "id": "CrJY55g7aMkr"
      },
      "execution_count": null,
      "outputs": []
    },
    {
      "cell_type": "code",
      "source": [],
      "metadata": {
        "id": "sXiB7LlxaMoH"
      },
      "execution_count": null,
      "outputs": []
    },
    {
      "cell_type": "code",
      "source": [],
      "metadata": {
        "id": "FztSM9UNaMrt"
      },
      "execution_count": null,
      "outputs": []
    }
  ]
}